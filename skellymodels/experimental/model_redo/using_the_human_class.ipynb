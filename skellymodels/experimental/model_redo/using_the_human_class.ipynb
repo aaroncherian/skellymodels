{
 "cells": [
  {
   "cell_type": "code",
   "execution_count": 1,
   "metadata": {},
   "outputs": [],
   "source": [
    "from pathlib import Path\n",
    "import numpy as np\n",
    "from pprint import pprint\n",
    "\n",
    "from skellymodels.experimental.model_redo.managers.human import Human, HumanAspectNames\n",
    "from skellymodels.experimental.model_redo.fmc_anatomical_pipeline.calculate_center_of_mass import calculate_center_of_mass_from_trajectory\n",
    "from skellymodels.experimental.model_redo.fmc_anatomical_pipeline.enforce_rigid_bones import enforce_rigid_bones_from_trajectory"
   ]
  },
  {
   "cell_type": "markdown",
   "metadata": {},
   "source": [
    "Input the path to raw 3D data file (as would come out of SkellyForge) "
   ]
  },
  {
   "cell_type": "code",
   "execution_count": 2,
   "metadata": {},
   "outputs": [],
   "source": [
    "path_to_data = Path(r\"/Users/philipqueen/freemocap_data/recording_sessions/freemocap_sample_data/output_data/raw_data/mediapipe_3dData_numFrames_numTrackedPoints_spatialXYZ.npy\")\n",
    "data = np.load(path_to_data)"
   ]
  },
  {
   "cell_type": "markdown",
   "metadata": {},
   "source": [
    "\n",
    "This is the new model info that's loaded from the YAML. Take a look  the model info at some point. It's very much in prototype."
   ]
  },
  {
   "cell_type": "code",
   "execution_count": 3,
   "metadata": {},
   "outputs": [],
   "source": [
    "from skellymodels.experimental.model_redo.tracker_info.model_info import MediapipeModelInfo\n",
    "model_info = MediapipeModelInfo()"
   ]
  },
  {
   "cell_type": "markdown",
   "metadata": {},
   "source": [
    "This is all you need to create a Human model. There's no data loaded in the model itself yet, but it has all the proper structures (tracked points/virtual points/all the anatomical definitions) that we currently have in the model data loaded for each aspect. "
   ]
  },
  {
   "cell_type": "code",
   "execution_count": 4,
   "metadata": {},
   "outputs": [
    {
     "name": "stdout",
     "output_type": "stream",
     "text": [
      "[{'body': Aspect: body\n",
      "  Anatomical Structure:\n",
      "  33 tracked points\n",
      "  4 virtual markers\n",
      "  22 segments\n",
      "  14 center of mass definitions\n",
      "  16 joint hierarchies\n",
      "  Trajectories: No trajectories\n",
      "  Error: No reprojection error\n",
      "  Metadata: : {'tracker_type': 'mediapipe'}\n",
      "\n",
      ",\n",
      "  'face': Aspect: face\n",
      "  Anatomical Structure:\n",
      "  478 tracked points\n",
      "  No virtual markers\n",
      "  No segment connections\n",
      "  No center of mass definitions\n",
      "  No joint hierarchy\n",
      "  Trajectories: No trajectories\n",
      "  Error: No reprojection error\n",
      "  Metadata: : {'tracker_type': 'mediapipe'}\n",
      "\n",
      ",\n",
      "  'left_hand': Aspect: left_hand\n",
      "  Anatomical Structure:\n",
      "  21 tracked points\n",
      "  No virtual markers\n",
      "  No segment connections\n",
      "  No center of mass definitions\n",
      "  No joint hierarchy\n",
      "  Trajectories: No trajectories\n",
      "  Error: No reprojection error\n",
      "  Metadata: : {'tracker_type': 'mediapipe'}\n",
      "\n",
      ",\n",
      "  'right_hand': Aspect: right_hand\n",
      "  Anatomical Structure:\n",
      "  21 tracked points\n",
      "  No virtual markers\n",
      "  No segment connections\n",
      "  No center of mass definitions\n",
      "  No joint hierarchy\n",
      "  Trajectories: No trajectories\n",
      "  Error: No reprojection error\n",
      "  Metadata: : {'tracker_type': 'mediapipe'}\n",
      "\n",
      "}]\n"
     ]
    }
   ],
   "source": [
    "human = Human(\n",
    "            name=\"human_one\", \n",
    "            model_info=model_info\n",
    "            )\n",
    "pprint([human.aspects])\n"
   ]
  },
  {
   "cell_type": "markdown",
   "metadata": {},
   "source": [
    "For the Human class, the aspects are already set (body/left hand/right hand/face) and you can access them as properties of the class"
   ]
  },
  {
   "cell_type": "code",
   "execution_count": 5,
   "metadata": {},
   "outputs": [
    {
     "name": "stdout",
     "output_type": "stream",
     "text": [
      "Body marker names: ['nose', 'left_eye_inner', 'left_eye', 'left_eye_outer', 'right_eye_inner', 'right_eye', 'right_eye_outer', 'left_ear', 'right_ear', 'mouth_left', 'mouth_right', 'left_shoulder', 'right_shoulder', 'left_elbow', 'right_elbow', 'left_wrist', 'right_wrist', 'left_pinky', 'right_pinky', 'left_index', 'right_index', 'left_thumb', 'right_thumb', 'left_hip', 'right_hip', 'left_knee', 'right_knee', 'left_ankle', 'right_ankle', 'left_heel', 'right_heel', 'left_foot_index', 'right_foot_index', 'head_center', 'neck_center', 'trunk_center', 'hips_center']\n",
      "Left hand marker names: ['wrist', 'thumb_cmc', 'thumb_mcp', 'thumb_ip', 'thumb_tip', 'index_finger_mcp', 'index_finger_pip', 'index_finger_dip', 'index_finger_tip', 'middle_finger_mcp', 'middle_finger_pip', 'middle_finger_dip', 'middle_finger_tip', 'ring_finger_mcp', 'ring_finger_pip', 'ring_finger_dip', 'ring_finger_tip', 'pinky_mcp', 'pinky_pip', 'pinky_dip', 'pinky_tip']\n"
     ]
    }
   ],
   "source": [
    "#For example if you want to access the marker names for an aspect, you could do what's shown below (We could make this easier to access down the line, if we feel the need)\n",
    "print(f\"Body marker names: {human.body.anatomical_structure.marker_names}\")\n",
    "print(f\"Left hand marker names: {human.left_hand.anatomical_structure.marker_names}\")\n"
   ]
  },
  {
   "cell_type": "markdown",
   "metadata": {},
   "source": [
    "To add data from a numpy, use the `add_tracked_points_numpy` function, which splits up the data according to the information defined in the model info. There is also a `from_tracked_points_numpy` class method that creates the Human class and adds data from numpy in 1 function.\n",
    "Note that now in the printed aspect below, you can see a new trajectory `3d_xyz` added. The reason I called it `3d_xyz` is because that's the name that gets tagged to that Trajectory when saving out the file later."
   ]
  },
  {
   "cell_type": "code",
   "execution_count": 6,
   "metadata": {},
   "outputs": [
    {
     "name": "stdout",
     "output_type": "stream",
     "text": [
      "Calculating virtual markers: ['head_center', 'neck_center', 'trunk_center', 'hips_center']\n",
      "[Aspect: body\n",
      "  Anatomical Structure:\n",
      "  33 tracked points\n",
      "  4 virtual markers\n",
      "  22 segments\n",
      "  14 center of mass definitions\n",
      "  16 joint hierarchies\n",
      "  Trajectories: 1 trajectories: ['3d_xyz']\n",
      "  Error: No reprojection error\n",
      "  Metadata: : {'tracker_type': 'mediapipe'}\n",
      "\n",
      "]\n"
     ]
    }
   ],
   "source": [
    "human.add_tracked_points_numpy(tracked_points_numpy_array=data)\n",
    "pprint([human.body])"
   ]
  },
  {
   "cell_type": "markdown",
   "metadata": {},
   "source": [
    "Here's how you can currently access the data. I think it's a little unwieldy and could be easier - but that's something to look at later. Below that you can also see how to get your data both as a numpy array and a pandas dataframe. "
   ]
  },
  {
   "cell_type": "code",
   "execution_count": 7,
   "metadata": {},
   "outputs": [
    {
     "name": "stdout",
     "output_type": "stream",
     "text": [
      "{'nose': array([[-681.29359381, -802.25034903, 1262.99269772],\n",
      "       [-651.34027664, -810.49435738, 1267.27762951],\n",
      "       [-641.47428189, -801.564347  , 1261.21595382],\n",
      "       ...,\n",
      "       [          nan,           nan,           nan],\n",
      "       [          nan,           nan,           nan],\n",
      "       [          nan,           nan,           nan]]), 'left_eye_inner': array([[-650.57150898, -827.68895141, 1242.46417264],\n",
      "       [-635.33332692, -829.15233053, 1240.30635672],\n",
      "       [-624.42400866, -822.14763538, 1235.58582498],\n",
      "       ...,\n",
      "       [          nan,           nan,           nan],\n",
      "       [          nan,           nan,           nan],\n",
      "       [          nan,           nan,           nan]]), 'left_eye': array([[-634.75522273, -821.34347444, 1241.89878405],\n",
      "       [-618.14262528, -822.96492817, 1239.94047606],\n",
      "       [-608.0280186 , -816.44886629, 1235.21803821],\n",
      "       ...,\n",
      "       [          nan,           nan,           nan],\n",
      "       [          nan,           nan,           nan],\n",
      "       [          nan,           nan,           nan]]), 'left_eye_outer': array([[-619.47078447, -813.919184  , 1240.23072299],\n",
      "       [-599.54572856, -816.83863761, 1240.4772726 ],\n",
      "       [-590.28525333, -810.60553625, 1235.33376124],\n",
      "       ...,\n",
      "       [          nan,           nan,           nan],\n",
      "       [          nan,           nan,           nan],\n",
      "       [          nan,           nan,           nan]]), 'right_eye_inner': array([[-680.32794901, -843.74398876, 1251.79171664],\n",
      "       [-668.18992155, -843.97005537, 1249.63289316],\n",
      "       [-651.58164579, -836.53867499, 1248.01413332],\n",
      "       ...,\n",
      "       [          nan,           nan,           nan],\n",
      "       [          nan,           nan,           nan],\n",
      "       [          nan,           nan,           nan]]), 'right_eye': array([[-687.26819071, -851.03862959, 1259.120431  ],\n",
      "       [-675.26232421, -850.83479992, 1257.86794286],\n",
      "       [-654.66469333, -843.9049714 , 1258.51587   ],\n",
      "       ...,\n",
      "       [          nan,           nan,           nan],\n",
      "       [          nan,           nan,           nan],\n",
      "       [          nan,           nan,           nan]]), 'right_eye_outer': array([[-692.9980032 , -859.9793587 , 1268.29197216],\n",
      "       [-681.77671336, -859.41680078, 1267.74565813],\n",
      "       [-657.52516285, -853.1560727 , 1270.65812442],\n",
      "       ...,\n",
      "       [          nan,           nan,           nan],\n",
      "       [          nan,           nan,           nan],\n",
      "       [          nan,           nan,           nan]]), 'left_ear': array([[-584.67593754, -807.45786245, 1275.74592546],\n",
      "       [-563.23518918, -805.2127934 , 1273.60265132],\n",
      "       [-538.52010051, -800.05484226, 1274.91293093],\n",
      "       ...,\n",
      "       [          nan,           nan,           nan],\n",
      "       [          nan,           nan,           nan],\n",
      "       [          nan,           nan,           nan]]), 'right_ear': array([[-675.47761184, -863.36967269, 1313.7441675 ],\n",
      "       [-664.98131807, -860.71250159, 1313.91669198],\n",
      "       [-618.47205878, -860.51256721, 1331.0038948 ],\n",
      "       ...,\n",
      "       [          nan,           nan,           nan],\n",
      "       [          nan,           nan,           nan],\n",
      "       [          nan,           nan,           nan]]), 'mouth_left': array([[-650.74641076, -762.84407262, 1297.08062167],\n",
      "       [-625.57415572, -768.28178357, 1297.05826481],\n",
      "       [-617.39298871, -762.49579961, 1290.86215625],\n",
      "       ...,\n",
      "       [          nan,           nan,           nan],\n",
      "       [          nan,           nan,           nan],\n",
      "       [          nan,           nan,           nan]]), 'mouth_right': array([[-687.77786164, -780.42970221, 1306.88129171],\n",
      "       [-665.67813637, -785.61941384, 1308.86032381],\n",
      "       [-651.05177862, -779.15064952, 1305.03750276],\n",
      "       ...,\n",
      "       [          nan,           nan,           nan],\n",
      "       [          nan,           nan,           nan],\n",
      "       [          nan,           nan,           nan]]), 'left_shoulder': array([[-435.19093152, -670.64279755, 1541.11684925],\n",
      "       [-400.59418637, -668.75686307, 1545.60346038],\n",
      "       [-362.86725384, -657.02325712, 1545.28469726],\n",
      "       ...,\n",
      "       [          nan,           nan,           nan],\n",
      "       [          nan,           nan,           nan],\n",
      "       [          nan,           nan,           nan]]), 'right_shoulder': array([[-815.3190856 , -660.22950828, 1462.69299564],\n",
      "       [-798.63374979, -660.8975926 , 1462.82547806],\n",
      "       [-761.88495469, -672.00659717, 1483.49549965],\n",
      "       ...,\n",
      "       [          nan,           nan,           nan],\n",
      "       [          nan,           nan,           nan],\n",
      "       [          nan,           nan,           nan]]), 'left_elbow': array([[-373.77534637, -428.35538344, 1738.32686152],\n",
      "       [-344.12481951, -422.73482895, 1762.21587155],\n",
      "       [-301.95412108, -412.62275318, 1753.9428026 ],\n",
      "       ...,\n",
      "       [          nan,           nan,           nan],\n",
      "       [          nan,           nan,           nan],\n",
      "       [          nan,           nan,           nan]]), 'right_elbow': array([[-885.03256185, -385.02199239, 1651.92364714],\n",
      "       [-882.70345652, -384.24317734, 1652.75743868],\n",
      "       [-869.49279875, -392.63544086, 1653.39936741],\n",
      "       ...,\n",
      "       [          nan,           nan,           nan],\n",
      "       [          nan,           nan,           nan],\n",
      "       [          nan,           nan,           nan]]), 'left_wrist': array([[-310.4958117 , -217.40101732, 1772.68232269],\n",
      "       [-299.64559499, -172.87346121, 1857.86363251],\n",
      "       [-254.44468257, -172.8995019 , 1844.10312998],\n",
      "       ...,\n",
      "       [          nan,           nan,           nan],\n",
      "       [          nan,           nan,           nan],\n",
      "       [          nan,           nan,           nan]]), 'right_wrist': array([[-670.15310404, -311.35250048, 1528.80536648],\n",
      "       [-661.9626811 , -310.82907786, 1524.61084003],\n",
      "       [-648.61765692, -310.96951803, 1527.22012507],\n",
      "       ...,\n",
      "       [          nan,           nan,           nan],\n",
      "       [          nan,           nan,           nan],\n",
      "       [          nan,           nan,           nan]]), 'left_pinky': array([[-325.72975491, -143.52437406, 1756.10620054],\n",
      "       [-311.60623452,  -95.76074742, 1866.7600813 ],\n",
      "       [-278.47352927,  -91.96804644, 1844.94375505],\n",
      "       ...,\n",
      "       [          nan,           nan,           nan],\n",
      "       [          nan,           nan,           nan],\n",
      "       [          nan,           nan,           nan]]), 'right_pinky': array([[-614.95867636, -275.80276472, 1502.36998585],\n",
      "       [-603.44373352, -275.44702601, 1500.19297103],\n",
      "       [-588.78524877, -275.16286683, 1504.5699367 ],\n",
      "       ...,\n",
      "       [          nan,           nan,           nan],\n",
      "       [          nan,           nan,           nan],\n",
      "       [          nan,           nan,           nan]]), 'left_index': array([[-332.78962812, -159.16717194, 1741.80588172],\n",
      "       [-324.18810094, -100.76415194, 1831.21016374],\n",
      "       [-289.42927247, -103.02441826, 1816.1927436 ],\n",
      "       ...,\n",
      "       [          nan,           nan,           nan],\n",
      "       [          nan,           nan,           nan],\n",
      "       [          nan,           nan,           nan]]), 'right_index': array([[-605.08593761, -320.42107164, 1496.96154119],\n",
      "       [-591.41655355, -320.39649672, 1497.195212  ],\n",
      "       [-573.54000683, -320.24288652, 1503.25879255],\n",
      "       ...,\n",
      "       [          nan,           nan,           nan],\n",
      "       [          nan,           nan,           nan],\n",
      "       [          nan,           nan,           nan]]), 'left_thumb': array([[-334.89523314, -184.648945  , 1748.45889279],\n",
      "       [-328.59766336, -125.65999297, 1835.28213474],\n",
      "       [-291.91165763, -129.86789427, 1817.98798694],\n",
      "       ...,\n",
      "       [          nan,           nan,           nan],\n",
      "       [          nan,           nan,           nan],\n",
      "       [          nan,           nan,           nan]]), 'right_thumb': array([[-615.19687818, -335.48388724, 1509.73834605],\n",
      "       [-602.55002932, -334.50231444, 1506.63145975],\n",
      "       [-584.99280714, -333.95375808, 1510.03245447],\n",
      "       ...,\n",
      "       [          nan,           nan,           nan],\n",
      "       [          nan,           nan,           nan],\n",
      "       [          nan,           nan,           nan]]), 'left_hip': array([[-576.06181744, -217.64480541, 1868.08265046],\n",
      "       [-559.41093637, -196.22944064, 1881.05849729],\n",
      "       [-534.64317568, -177.71515367, 1879.85070223],\n",
      "       ...,\n",
      "       [          nan,           nan,           nan],\n",
      "       [          nan,           nan,           nan],\n",
      "       [          nan,           nan,           nan]]), 'right_hip': array([[-773.35762343, -228.44460458, 1826.88168928],\n",
      "       [-768.57688719, -202.69931864, 1821.56469771],\n",
      "       [-750.39410311, -191.48088584, 1832.48331839],\n",
      "       ...,\n",
      "       [          nan,           nan,           nan],\n",
      "       [          nan,           nan,           nan],\n",
      "       [          nan,           nan,           nan]]), 'left_knee': array([[-510.8341166 ,  149.00572148, 1987.03238387],\n",
      "       [-487.53070145,  172.40784546, 2043.59446774],\n",
      "       [-465.10566384,  189.17911627, 2062.70437252],\n",
      "       ...,\n",
      "       [          nan,           nan,           nan],\n",
      "       [          nan,           nan,           nan],\n",
      "       [          nan,           nan,           nan]]), 'right_knee': array([[-803.04159561,  197.30804818, 1950.84205997],\n",
      "       [-801.78179191,  202.65929254, 1955.44114218],\n",
      "       [-798.57395348,  209.50386892, 1959.10648775],\n",
      "       ...,\n",
      "       [          nan,           nan,           nan],\n",
      "       [          nan,           nan,           nan],\n",
      "       [          nan,           nan,           nan]]), 'left_ankle': array([[-537.99546379,  402.56650633, 2224.37039897],\n",
      "       [-470.35208487,  443.97772453, 2323.8182748 ],\n",
      "       [-384.51643167,  479.99268938, 2359.75031812],\n",
      "       ...,\n",
      "       [          nan,           nan,           nan],\n",
      "       [          nan,           nan,           nan],\n",
      "       [          nan,           nan,           nan]]), 'right_ankle': array([[-920.16419865,  540.94625914, 2238.2535403 ],\n",
      "       [-920.59569437,  540.27120141, 2233.99168326],\n",
      "       [-920.49721024,  538.26061852, 2234.51105917],\n",
      "       ...,\n",
      "       [          nan,           nan,           nan],\n",
      "       [          nan,           nan,           nan],\n",
      "       [          nan,           nan,           nan]]), 'left_heel': array([[-592.28396427,  443.53927878, 2299.38647366],\n",
      "       [-518.93802069,  485.52900465, 2383.60556712],\n",
      "       [-394.58993218,  529.33598633, 2441.02129012],\n",
      "       ...,\n",
      "       [          nan,           nan,           nan],\n",
      "       [          nan,           nan,           nan],\n",
      "       [          nan,           nan,           nan]]), 'right_heel': array([[-956.84020698,  599.94409879, 2329.74744195],\n",
      "       [-959.14559596,  600.55851458, 2332.63514821],\n",
      "       [-958.67349621,  596.15038436, 2333.37438151],\n",
      "       ...,\n",
      "       [          nan,           nan,           nan],\n",
      "       [          nan,           nan,           nan],\n",
      "       [          nan,           nan,           nan]]), 'left_foot_index': array([[-445.58437582,  577.36215775, 2234.11730755],\n",
      "       [-387.77431597,  637.78895893, 2345.50238098],\n",
      "       [-372.04870075,  652.15715704, 2254.07132605],\n",
      "       ...,\n",
      "       [          nan,           nan,           nan],\n",
      "       [          nan,           nan,           nan],\n",
      "       [          nan,           nan,           nan]]), 'right_foot_index': array([[-815.38067241,  692.04279475, 2160.87262816],\n",
      "       [-812.24850423,  702.42981857, 2166.9110418 ],\n",
      "       [-812.10969337,  703.95121348, 2171.31323244],\n",
      "       ...,\n",
      "       [          nan,           nan,           nan],\n",
      "       [          nan,           nan,           nan],\n",
      "       [          nan,           nan,           nan]]), 'head_center': array([[-630.07677469, -835.41376757, 1294.74504648],\n",
      "       [-614.10825362, -832.96264749, 1293.75967165],\n",
      "       [-578.49607965, -830.28370474, 1302.95841287],\n",
      "       ...,\n",
      "       [          nan,           nan,           nan],\n",
      "       [          nan,           nan,           nan],\n",
      "       [          nan,           nan,           nan]]), 'neck_center': array([[-625.25500856, -665.43615292, 1501.90492245],\n",
      "       [-599.61396808, -664.82722784, 1504.21446922],\n",
      "       [-562.37610426, -664.51492714, 1514.39009845],\n",
      "       ...,\n",
      "       [          nan,           nan,           nan],\n",
      "       [          nan,           nan,           nan],\n",
      "       [          nan,           nan,           nan]]), 'trunk_center': array([[-649.9823645 , -444.24042896, 1674.69354616],\n",
      "       [-631.80393993, -432.14580374, 1677.76303336],\n",
      "       [-602.44737183, -424.55647345, 1685.27855438],\n",
      "       ...,\n",
      "       [          nan,           nan,           nan],\n",
      "       [          nan,           nan,           nan],\n",
      "       [          nan,           nan,           nan]]), 'hips_center': array([[-674.70972043, -223.044705  , 1847.48216987],\n",
      "       [-663.99391178, -199.46437964, 1851.3115975 ],\n",
      "       [-642.5186394 , -184.59801975, 1856.16701031],\n",
      "       ...,\n",
      "       [          nan,           nan,           nan],\n",
      "       [          nan,           nan,           nan],\n",
      "       [          nan,           nan,           nan]])}\n"
     ]
    }
   ],
   "source": [
    "print(human.body.trajectories['3d_xyz'].data)"
   ]
  },
  {
   "cell_type": "code",
   "execution_count": 8,
   "metadata": {},
   "outputs": [
    {
     "name": "stdout",
     "output_type": "stream",
     "text": [
      "Data as numpy: [[[-681.29359381 -802.25034903 1262.99269772]\n",
      "  [-650.57150898 -827.68895141 1242.46417264]\n",
      "  [-634.75522273 -821.34347444 1241.89878405]\n",
      "  ...\n",
      "  [-625.25500856 -665.43615292 1501.90492245]\n",
      "  [-649.9823645  -444.24042896 1674.69354616]\n",
      "  [-674.70972043 -223.044705   1847.48216987]]\n",
      "\n",
      " [[-651.34027664 -810.49435738 1267.27762951]\n",
      "  [-635.33332692 -829.15233053 1240.30635672]\n",
      "  [-618.14262528 -822.96492817 1239.94047606]\n",
      "  ...\n",
      "  [-599.61396808 -664.82722784 1504.21446922]\n",
      "  [-631.80393993 -432.14580374 1677.76303336]\n",
      "  [-663.99391178 -199.46437964 1851.3115975 ]]\n",
      "\n",
      " [[-641.47428189 -801.564347   1261.21595382]\n",
      "  [-624.42400866 -822.14763538 1235.58582498]\n",
      "  [-608.0280186  -816.44886629 1235.21803821]\n",
      "  ...\n",
      "  [-562.37610426 -664.51492714 1514.39009845]\n",
      "  [-602.44737183 -424.55647345 1685.27855438]\n",
      "  [-642.5186394  -184.59801975 1856.16701031]]\n",
      "\n",
      " ...\n",
      "\n",
      " [[          nan           nan           nan]\n",
      "  [          nan           nan           nan]\n",
      "  [          nan           nan           nan]\n",
      "  ...\n",
      "  [          nan           nan           nan]\n",
      "  [          nan           nan           nan]\n",
      "  [          nan           nan           nan]]\n",
      "\n",
      " [[          nan           nan           nan]\n",
      "  [          nan           nan           nan]\n",
      "  [          nan           nan           nan]\n",
      "  ...\n",
      "  [          nan           nan           nan]\n",
      "  [          nan           nan           nan]\n",
      "  [          nan           nan           nan]]\n",
      "\n",
      " [[          nan           nan           nan]\n",
      "  [          nan           nan           nan]\n",
      "  [          nan           nan           nan]\n",
      "  ...\n",
      "  [          nan           nan           nan]\n",
      "  [          nan           nan           nan]\n",
      "  [          nan           nan           nan]]]\n"
     ]
    }
   ],
   "source": [
    "print(f\"Data as numpy: {human.body.trajectories['3d_xyz'].as_numpy}\")"
   ]
  },
  {
   "cell_type": "code",
   "execution_count": 9,
   "metadata": {},
   "outputs": [
    {
     "name": "stdout",
     "output_type": "stream",
     "text": [
      "Data as dataframe:\n",
      "        frame          keypoint           x           y            z\n",
      "0          0              nose -681.293594 -802.250349  1262.992698\n",
      "1          0    left_eye_inner -650.571509 -827.688951  1242.464173\n",
      "2          0          left_eye -634.755223 -821.343474  1241.898784\n",
      "3          0    left_eye_outer -619.470784 -813.919184  1240.230723\n",
      "4          0   right_eye_inner -680.327949 -843.743989  1251.791717\n",
      "...      ...               ...         ...         ...          ...\n",
      "40991   1107  right_foot_index         NaN         NaN          NaN\n",
      "40992   1107       head_center         NaN         NaN          NaN\n",
      "40993   1107       neck_center         NaN         NaN          NaN\n",
      "40994   1107      trunk_center         NaN         NaN          NaN\n",
      "40995   1107       hips_center         NaN         NaN          NaN\n",
      "\n",
      "[40996 rows x 5 columns]\n"
     ]
    }
   ],
   "source": [
    "print(f\"Data as dataframe:\\n {human.body.trajectories['3d_xyz'].as_dataframe}\")"
   ]
  },
  {
   "cell_type": "markdown",
   "metadata": {},
   "source": [
    "There's also some basic methods that I wrote into the Actor class that you can use to get marker or frame data. Those are demonstrated below.\n",
    "\n",
    "While I think the way it's written is necessary for the Actor class, where we don't have a strong sense of what might be added to it, I don't think this method is ideal for the Human class. Too many strings involved. So it would probably be worth giving the human class additional methods to do the below functions."
   ]
  },
  {
   "cell_type": "code",
   "execution_count": 10,
   "metadata": {},
   "outputs": [
    {
     "name": "stdout",
     "output_type": "stream",
     "text": [
      "[[-592.28396427  443.53927878 2299.38647366]\n",
      " [-518.93802069  485.52900465 2383.60556712]\n",
      " [-394.58993218  529.33598633 2441.02129012]\n",
      " ...\n",
      " [          nan           nan           nan]\n",
      " [          nan           nan           nan]\n",
      " [          nan           nan           nan]]\n",
      "{'nose': array([-256.47083605, -842.9956903 , 1394.10112869]), 'left_eye_inner': array([-221.68670923, -883.23949189, 1396.91506593]), 'left_eye': array([-206.40797635, -881.66199505, 1399.96668789]), 'left_eye_outer': array([-191.5173028 , -879.52909193, 1402.64859052]), 'right_eye_inner': array([-257.21627509, -894.42614069, 1399.67383063]), 'right_eye': array([-265.68569786, -901.94115647, 1407.11283542]), 'right_eye_outer': array([-272.46439589, -911.32082589, 1417.66788914]), 'left_ear': array([-151.61073632, -884.35367207, 1456.64569557]), 'right_ear': array([-253.88173138, -934.65241806, 1491.54621416]), 'mouth_left': array([-233.59020109, -809.1353206 , 1428.11316439]), 'mouth_right': array([-274.76565235, -822.85082106, 1432.69293267]), 'left_shoulder': array([ -48.73269797, -628.13705258, 1553.99119036]), 'right_shoulder': array([-400.1217643 , -800.41406697, 1686.83982989]), 'left_elbow': array([-138.44691133, -338.80002826, 1627.72487736]), 'right_elbow': array([-482.83731162, -546.02909606, 1683.74395102]), 'left_wrist': array([-333.2598205 , -163.9290463 , 1519.40729836]), 'right_wrist': array([-474.86536654, -446.95289851, 1433.38393799]), 'left_pinky': array([-372.96792037, -110.40443351, 1485.5446432 ]), 'right_pinky': array([-472.76666057, -410.65981478, 1364.07305369]), 'left_index': array([-398.35495313, -119.81623774, 1459.56197971]), 'right_index': array([-476.3038503 , -434.53702852, 1352.09283919]), 'left_thumb': array([-389.35340216, -141.16561237, 1480.71674751]), 'right_thumb': array([-472.77774963, -442.26917333, 1378.39241839]), 'left_hip': array([-236.25730153, -142.42444188, 1883.97947533]), 'right_hip': array([-443.80115808, -232.47692629, 1981.17338026]), 'left_knee': array([-295.65053697,  240.81343177, 2101.4609246 ]), 'right_knee': array([-500.81433849,  154.09564474, 2214.34107942]), 'left_ankle': array([-305.35160929,  569.57048011, 2320.20407929]), 'right_ankle': array([-501.39428228,  480.51266801, 2456.48636199]), 'left_heel': array([-278.08156746,  629.24931535, 2452.44029231]), 'right_heel': array([-458.56211349,  537.13878224, 2555.34109108]), 'left_foot_index': array([-431.44254285,  730.99518572, 2223.61719404]), 'right_foot_index': array([-631.59124688,  631.12675542, 2354.15958781]), 'head_center': array([-202.74623385, -909.50304507, 1474.09595486]), 'neck_center': array([-224.42723113, -714.27555978, 1620.41551013]), 'trunk_center': array([-282.22823047, -450.86312193, 1776.49596896]), 'hips_center': array([-340.02922981, -187.45068408, 1932.57642779])}\n"
     ]
    }
   ],
   "source": [
    "print(human.get_marker_data(aspect_name=HumanAspectNames.BODY.value, type = '3d_xyz', marker_name= 'left_heel'))\n",
    "print(human.get_frame(aspect_name=HumanAspectNames.BODY.value, type = '3d_xyz', frame_number=100))"
   ]
  },
  {
   "cell_type": "markdown",
   "metadata": {},
   "source": [
    "To add reprojection error to the 3d data, first load it from the raw data folder"
   ]
  },
  {
   "cell_type": "code",
   "execution_count": 11,
   "metadata": {},
   "outputs": [],
   "source": [
    "reprojection_error_path = Path(r\"/Users/philipqueen/freemocap_data/recording_sessions/freemocap_sample_data/output_data/raw_data/mediapipe_3dData_numFrames_numTrackedPoints_reprojectionError.npy\")\n",
    "reprojection_error_data = np.load(reprojection_error_path)"
   ]
  },
  {
   "cell_type": "markdown",
   "metadata": {},
   "source": [
    "We can add the reprojection error from a numpy array using `add_reprojection_error_numpy`, the same way we did from `tracked_points`."
   ]
  },
  {
   "cell_type": "code",
   "execution_count": 12,
   "metadata": {},
   "outputs": [],
   "source": [
    "human.add_reprojection_error_numpy(reprojection_error_data=reprojection_error_data)"
   ]
  },
  {
   "cell_type": "markdown",
   "metadata": {},
   "source": [
    "Now we can get the error data by frame or marker"
   ]
  },
  {
   "cell_type": "code",
   "execution_count": 13,
   "metadata": {},
   "outputs": [
    {
     "name": "stdout",
     "output_type": "stream",
     "text": [
      "[25.52732232 17.65498045 13.86470385 ...         nan         nan\n",
      "         nan]\n",
      "{'nose': 5.746020473415346, 'left_eye_inner': 5.90244210284299, 'left_eye': 5.813339899127283, 'left_eye_outer': 5.656964136384929, 'right_eye_inner': 6.838173316247693, 'right_eye': 7.303391546297601, 'right_eye_outer': 7.579633577886159, 'left_ear': 5.395652581201134, 'right_ear': 6.981296190908798, 'mouth_left': 5.73569256588852, 'mouth_right': 6.010359255994679, 'left_shoulder': 10.209152768874075, 'right_shoulder': 7.507343032311457, 'left_elbow': 15.799318229136006, 'right_elbow': 22.819596236039697, 'left_wrist': 20.216664636915368, 'right_wrist': 85.12797579441322, 'left_pinky': 19.499122752521046, 'right_pinky': 100.0126877968987, 'left_index': 18.25631177921259, 'right_index': 104.39363726455751, 'left_thumb': 17.114486943363136, 'right_thumb': 97.36284714160382, 'left_hip': 6.980321597510373, 'right_hip': 7.2618867088386025, 'left_knee': 3.2968320942090963, 'right_knee': 12.394759685267323, 'left_ankle': 6.983039739916648, 'right_ankle': 7.451685010756752, 'left_heel': 11.617036409675137, 'right_heel': 9.805190908680666, 'left_foot_index': 7.53968203570783, 'right_foot_index': 7.013248090955862}\n"
     ]
    }
   ],
   "source": [
    "print(human.get_error_marker(aspect_name=HumanAspectNames.BODY.value, marker_name= 'left_heel'))\n",
    "print(human.get_error_frame(aspect_name=HumanAspectNames.BODY.value, frame_number=100))"
   ]
  },
  {
   "cell_type": "markdown",
   "metadata": {},
   "source": [
    "The following functions are what exist in our anatomical pipeline at the moment: calculating center of mass and enforcing rigid bones. For both, after the data is calculated, they get added as Trajectories to the relevant Aspect"
   ]
  },
  {
   "cell_type": "code",
   "execution_count": 14,
   "metadata": {},
   "outputs": [
    {
     "name": "stdout",
     "output_type": "stream",
     "text": [
      "Calculating center of mass for aspect: body\n",
      "Missing center of mass definitions for aspect face, skipping center of mass calculation\n",
      "Missing center of mass definitions for aspect left_hand, skipping center of mass calculation\n",
      "Missing center of mass definitions for aspect right_hand, skipping center of mass calculation\n"
     ]
    }
   ],
   "source": [
    "for aspect in human.aspects.values():\n",
    "    aspect.calculate_center_of_mass()"
   ]
  },
  {
   "cell_type": "code",
   "execution_count": 15,
   "metadata": {},
   "outputs": [
    {
     "name": "stdout",
     "output_type": "stream",
     "text": [
      "Enforcing rigid bones for aspect: body\n",
      "Missing segment connections for aspect face, skipping rigid bone enforcement\n",
      "Missing segment connections for aspect left_hand, skipping rigid bone enforcement\n",
      "Missing segment connections for aspect right_hand, skipping rigid bone enforcement\n"
     ]
    }
   ],
   "source": [
    "for aspect in human.aspects.values():\n",
    "    aspect.enforce_rigid_bones()"
   ]
  },
  {
   "cell_type": "markdown",
   "metadata": {},
   "source": [
    "Below you can see extra trajectories added to the body after running the above functions"
   ]
  },
  {
   "cell_type": "code",
   "execution_count": 16,
   "metadata": {},
   "outputs": [
    {
     "name": "stdout",
     "output_type": "stream",
     "text": [
      "{'body': {'3d_xyz': Trajectory with 1108 frames and 37 markers,\n",
      "          'rigid_3d_xyz': Trajectory with 1108 frames and 37 markers,\n",
      "          'segment_com': Trajectory with 1108 frames and 14 markers,\n",
      "          'total_body_com': Trajectory with 1108 frames and 1 markers}}\n",
      "{'face': {'3d_xyz': Trajectory with 1108 frames and 478 markers}}\n",
      "{'left_hand': {'3d_xyz': Trajectory with 1108 frames and 21 markers}}\n",
      "{'right_hand': {'3d_xyz': Trajectory with 1108 frames and 21 markers}}\n"
     ]
    }
   ],
   "source": [
    "for aspect in human.aspects.values():\n",
    "    pprint({aspect.name: aspect.trajectories})"
   ]
  },
  {
   "cell_type": "markdown",
   "metadata": {},
   "source": [
    "Each saving function is a method in the Actor baseclass. They leverage the `as_numpy` and `as_dataframe` properties that each Trajectory has. We basically iterate over each Trajectory in an Aspect, and save it out, using the metadata stored within each aspect/trajectory to dynamically build the file names. The last function builds the 'big' CSV we have with all the data."
   ]
  },
  {
   "cell_type": "markdown",
   "metadata": {},
   "source": [
    "And these three functions are all we need to save out similar/almost equivalent data to what we currently save out for freemocap in the output data folder"
   ]
  },
  {
   "cell_type": "code",
   "execution_count": 17,
   "metadata": {},
   "outputs": [
    {
     "name": "stdout",
     "output_type": "stream",
     "text": [
      "Saving out numpy: mediapipe body 3d_xyz\n",
      "Saving out numpy: mediapipe body total_body_com\n",
      "Saving out numpy: mediapipe body segment_com\n",
      "Saving out numpy: mediapipe body rigid_3d_xyz\n",
      "Saving out numpy: mediapipe face 3d_xyz\n",
      "Saving out numpy: mediapipe left_hand 3d_xyz\n",
      "Saving out numpy: mediapipe right_hand 3d_xyz\n",
      "Saving out CSV: mediapipe body 3d_xyz\n",
      "Saving out CSV: mediapipe body total_body_com\n",
      "Saving out CSV: mediapipe body segment_com\n",
      "Saving out CSV: mediapipe body rigid_3d_xyz\n",
      "Saving out CSV: mediapipe face 3d_xyz\n",
      "Saving out CSV: mediapipe left_hand 3d_xyz\n",
      "Saving out CSV: mediapipe right_hand 3d_xyz\n",
      "Data successfully saved to 'freemocap_data_by_frame.csv'\n"
     ]
    }
   ],
   "source": [
    "human.save_out_numpy_data()\n",
    "human.save_out_csv_data()\n",
    "human.save_out_all_data_csv()\n"
   ]
  }
 ],
 "metadata": {
  "kernelspec": {
   "display_name": "skelly_models",
   "language": "python",
   "name": "python3"
  },
  "language_info": {
   "codemirror_mode": {
    "name": "ipython",
    "version": 3
   },
   "file_extension": ".py",
   "mimetype": "text/x-python",
   "name": "python",
   "nbconvert_exporter": "python",
   "pygments_lexer": "ipython3",
   "version": "3.11.11"
  }
 },
 "nbformat": 4,
 "nbformat_minor": 2
}

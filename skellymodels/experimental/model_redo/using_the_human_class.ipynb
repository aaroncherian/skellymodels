{
 "cells": [
  {
   "cell_type": "code",
   "execution_count": 33,
   "metadata": {},
   "outputs": [],
   "source": [
    "from pathlib import Path\n",
    "import numpy as np\n",
    "from pprint import pprint\n",
    "\n",
    "from skellymodels.experimental.model_redo.managers.human import Human\n",
    "from skellymodels.experimental.model_redo.fmc_anatomical_pipeline.calculate_center_of_mass import calculate_center_of_mass_from_trajectory\n",
    "from skellymodels.experimental.model_redo.fmc_anatomical_pipeline.enforce_rigid_bones import enforce_rigid_bones_from_trajectory"
   ]
  },
  {
   "cell_type": "markdown",
   "metadata": {},
   "source": [
    "Input the path to raw 3D data file (as would come out of SkellyForge) "
   ]
  },
  {
   "cell_type": "code",
   "execution_count": 34,
   "metadata": {},
   "outputs": [],
   "source": [
    "path_to_data = Path(r\"C:\\Users\\aaron\\FreeMocap_Data\\recording_sessions\\freemocap_sample_data\\output_data\\raw_data\\mediapipe_3dData_numFrames_numTrackedPoints_spatialXYZ.npy\")\n",
    "data = np.load(path_to_data)"
   ]
  },
  {
   "cell_type": "markdown",
   "metadata": {},
   "source": [
    "\n",
    "This is the new model info that's loaded from the YAML. Take a look  the model info at some point. It's very much in prototype."
   ]
  },
  {
   "cell_type": "code",
   "execution_count": 35,
   "metadata": {},
   "outputs": [],
   "source": [
    "from skellymodels.experimental.model_redo.tracker_info.model_info import MediapipeModelInfo\n",
    "model_info = MediapipeModelInfo()"
   ]
  },
  {
   "cell_type": "markdown",
   "metadata": {},
   "source": [
    "This is all you need to create a Human model. There's no data loaded in the model itself yet, but it has all the proper structures (tracked points/virtual points/all the anatomical definitions) that we currently have in the model data loaded for each aspect. "
   ]
  },
  {
   "cell_type": "code",
   "execution_count": 36,
   "metadata": {},
   "outputs": [
    {
     "name": "stdout",
     "output_type": "stream",
     "text": [
      "[{'body': Aspect: body\n",
      "  Anatomical Structure:\n",
      "  33 tracked points\n",
      "  4 virtual markers\n",
      "  22 segments\n",
      "  14 center of mass definitions\n",
      "  16 joint hierarchies\n",
      "  Trajectories: No trajectories\n",
      "  Metadata: : {'tracker_type': 'mediapipe'}\n",
      "\n",
      ",\n",
      "  'face': Aspect: face\n",
      "  Anatomical Structure:\n",
      "  478 tracked points\n",
      "  No virtual markers\n",
      "  No segment connections\n",
      "  No center of mass definitions\n",
      "  No joint hierarchy\n",
      "  Trajectories: No trajectories\n",
      "  Metadata: : {'tracker_type': 'mediapipe'}\n",
      "\n",
      ",\n",
      "  'left_hand': Aspect: left_hand\n",
      "  Anatomical Structure:\n",
      "  21 tracked points\n",
      "  No virtual markers\n",
      "  No segment connections\n",
      "  No center of mass definitions\n",
      "  No joint hierarchy\n",
      "  Trajectories: No trajectories\n",
      "  Metadata: : {'tracker_type': 'mediapipe'}\n",
      "\n",
      ",\n",
      "  'right_hand': Aspect: right_hand\n",
      "  Anatomical Structure:\n",
      "  21 tracked points\n",
      "  No virtual markers\n",
      "  No segment connections\n",
      "  No center of mass definitions\n",
      "  No joint hierarchy\n",
      "  Trajectories: No trajectories\n",
      "  Metadata: : {'tracker_type': 'mediapipe'}\n",
      "\n",
      "}]\n"
     ]
    }
   ],
   "source": [
    "human = Human(\n",
    "            name=\"human_one\", \n",
    "            model_info=model_info\n",
    "            )\n",
    "pprint([human.aspects])\n"
   ]
  },
  {
   "cell_type": "markdown",
   "metadata": {},
   "source": [
    "For the Human class, the aspects are already set (body/left hand/right hand/face) and you can access them as properties of the class"
   ]
  },
  {
   "cell_type": "code",
   "execution_count": 37,
   "metadata": {},
   "outputs": [
    {
     "name": "stdout",
     "output_type": "stream",
     "text": [
      "Body marker names: ['nose', 'left_eye_inner', 'left_eye', 'left_eye_outer', 'right_eye_inner', 'right_eye', 'right_eye_outer', 'left_ear', 'right_ear', 'mouth_left', 'mouth_right', 'left_shoulder', 'right_shoulder', 'left_elbow', 'right_elbow', 'left_wrist', 'right_wrist', 'left_pinky', 'right_pinky', 'left_index', 'right_index', 'left_thumb', 'right_thumb', 'left_hip', 'right_hip', 'left_knee', 'right_knee', 'left_ankle', 'right_ankle', 'left_heel', 'right_heel', 'left_foot_index', 'right_foot_index', 'head_center', 'neck_center', 'trunk_center', 'hips_center']\n",
      "Left hand marker names: ['wrist', 'thumb_cmc', 'thumb_mcp', 'thumb_ip', 'thumb_tip', 'index_finger_mcp', 'index_finger_pip', 'index_finger_dip', 'index_finger_tip', 'middle_finger_mcp', 'middle_finger_pip', 'middle_finger_dip', 'middle_finger_tip', 'ring_finger_mcp', 'ring_finger_pip', 'ring_finger_dip', 'ring_finger_tip', 'pinky_mcp', 'pinky_pip', 'pinky_dip', 'pinky_tip']\n"
     ]
    }
   ],
   "source": [
    "#For example if you want to access the marker names for an aspect, you could do what's shown below (We could make this easier to access down the line, if we feel the need)\n",
    "print(f\"Body marker names: {human.body.anatomical_structure.marker_names}\")\n",
    "print(f\"Left hand marker names: {human.left_hand.anatomical_structure.marker_names}\")\n"
   ]
  },
  {
   "cell_type": "markdown",
   "metadata": {},
   "source": [
    "To add data from a numpy, use the `from_tracked_points_numpy` function, which splits up the data according to the information defined in the model info. \n",
    "Note that now in the printed aspect below, you can see a new trajectory `3d_xyz` added. The reason I called it `3d_xyz` is because that's the name that gets tagged to that Trajectory when saving out the file later."
   ]
  },
  {
   "cell_type": "code",
   "execution_count": 38,
   "metadata": {},
   "outputs": [
    {
     "name": "stdout",
     "output_type": "stream",
     "text": [
      "Calculating virtual markers: ['head_center', 'neck_center', 'trunk_center', 'hips_center']\n",
      "[Aspect: body\n",
      "  Anatomical Structure:\n",
      "  33 tracked points\n",
      "  4 virtual markers\n",
      "  22 segments\n",
      "  14 center of mass definitions\n",
      "  16 joint hierarchies\n",
      "  Trajectories: 1 trajectories: ['3d_xyz']\n",
      "  Metadata: : {'tracker_type': 'mediapipe'}\n",
      "\n",
      "]\n"
     ]
    }
   ],
   "source": [
    "human.from_tracked_points_numpy(tracked_points_numpy_array=data)\n",
    "pprint([human.body])"
   ]
  },
  {
   "cell_type": "markdown",
   "metadata": {},
   "source": [
    "Here's how you can currently access the data. I think it's a little unwieldy and could be easier - but that's something to look at later. Below that you can also see how to get your data both as a numpy array and a pandas dataframe. "
   ]
  },
  {
   "cell_type": "code",
   "execution_count": 39,
   "metadata": {},
   "outputs": [
    {
     "name": "stdout",
     "output_type": "stream",
     "text": [
      "{'nose': array([[ -584.25246118, -1188.90613348,  1866.26252851],\n",
      "       [ -589.46152046, -1163.65964843,  1826.09886942],\n",
      "       [ -589.1825987 , -1149.85056323,  1795.93403936],\n",
      "       ...,\n",
      "       [           nan,            nan,            nan],\n",
      "       [           nan,            nan,            nan],\n",
      "       [           nan,            nan,            nan]]), 'left_eye_inner': array([[ -575.12680531, -1202.53116076,  1805.62711625],\n",
      "       [ -580.00204398, -1181.32111421,  1772.66176873],\n",
      "       [ -577.22644514, -1165.22818768,  1745.08861151],\n",
      "       ...,\n",
      "       [           nan,            nan,            nan],\n",
      "       [           nan,            nan,            nan],\n",
      "       [           nan,            nan,            nan]]), 'left_eye': array([[ -561.68916378, -1186.02167732,  1790.86783741],\n",
      "       [ -567.20045757, -1165.53239215,  1756.59792666],\n",
      "       [ -562.46878092, -1151.84546508,  1730.89247207],\n",
      "       ...,\n",
      "       [           nan,            nan,            nan],\n",
      "       [           nan,            nan,            nan],\n",
      "       [           nan,            nan,            nan]]), 'left_eye_outer': array([[ -549.63537047, -1168.34881792,  1774.84687141],\n",
      "       [ -553.93837909, -1149.95658552,  1741.10020682],\n",
      "       [ -547.39169637, -1136.38289347,  1714.72352026],\n",
      "       ...,\n",
      "       [           nan,            nan,            nan],\n",
      "       [           nan,            nan,            nan],\n",
      "       [           nan,            nan,            nan]]), 'right_eye_inner': array([[ -609.28637003, -1224.67870093,  1824.19104357],\n",
      "       [ -611.48576323, -1203.89136444,  1794.66292728],\n",
      "       [ -604.27548179, -1180.26016477,  1759.46695012],\n",
      "       ...,\n",
      "       [           nan,            nan,            nan],\n",
      "       [           nan,            nan,            nan],\n",
      "       [           nan,            nan,            nan]]), 'right_eye': array([[ -621.05178698, -1225.63059753,  1822.57166528],\n",
      "       [ -620.98392   , -1206.34559614,  1796.04134393],\n",
      "       [ -611.58251207, -1179.99444881,  1757.66879867],\n",
      "       ...,\n",
      "       [           nan,            nan,            nan],\n",
      "       [           nan,            nan,            nan],\n",
      "       [           nan,            nan,            nan]]), 'right_eye_outer': array([[ -634.68342596, -1225.01293389,  1818.40850115],\n",
      "       [ -631.94141837, -1207.54315446,  1795.22367666],\n",
      "       [ -619.32857421, -1180.02101241,  1755.46000054],\n",
      "       ...,\n",
      "       [           nan,            nan,            nan],\n",
      "       [           nan,            nan,            nan],\n",
      "       [           nan,            nan,            nan]]), 'left_ear': array([[ -538.11811995, -1100.55563719,  1723.55949846],\n",
      "       [ -526.19124439, -1088.0252272 ,  1700.37432834],\n",
      "       [ -507.34307663, -1065.64561549,  1668.9853122 ],\n",
      "       ...,\n",
      "       [           nan,            nan,            nan],\n",
      "       [           nan,            nan,            nan],\n",
      "       [           nan,            nan,            nan]]), 'right_ear': array([[ -639.07879705, -1166.63770543,  1779.23689588],\n",
      "       [ -628.66690975, -1153.46828673,  1764.13834858],\n",
      "       [ -605.47567685, -1117.69558794,  1716.96080587],\n",
      "       ...,\n",
      "       [           nan,            nan,            nan],\n",
      "       [           nan,            nan,            nan],\n",
      "       [           nan,            nan,            nan]]), 'mouth_left': array([[ -553.31389395, -1101.6979886 ,  1852.67855436],\n",
      "       [ -559.0492715 , -1081.48000395,  1813.56249607],\n",
      "       [ -557.3548983 , -1073.38269918,  1789.46634516],\n",
      "       ...,\n",
      "       [           nan,            nan,            nan],\n",
      "       [           nan,            nan,            nan],\n",
      "       [           nan,            nan,            nan]]), 'mouth_right': array([[ -591.42201018, -1131.02463474,  1881.05722309],\n",
      "       [ -593.33017707, -1110.21021461,  1845.77043999],\n",
      "       [ -589.83659419, -1095.8723267 ,  1813.47909343],\n",
      "       ...,\n",
      "       [           nan,            nan,            nan],\n",
      "       [           nan,            nan,            nan],\n",
      "       [           nan,            nan,            nan]]), 'left_shoulder': array([[-445.60333671, -752.28374954, 1658.94382983],\n",
      "       [-427.12549545, -736.97947608, 1626.63604849],\n",
      "       [-399.88052613, -715.02932388, 1598.47830649],\n",
      "       ...,\n",
      "       [          nan,           nan,           nan],\n",
      "       [          nan,           nan,           nan],\n",
      "       [          nan,           nan,           nan]]), 'right_shoulder': array([[-696.33808884, -942.36811095, 2065.00851479],\n",
      "       [-692.07484693, -928.79526176, 2034.83154783],\n",
      "       [-665.36238676, -914.38067417, 1993.55800791],\n",
      "       ...,\n",
      "       [          nan,           nan,           nan],\n",
      "       [          nan,           nan,           nan],\n",
      "       [          nan,           nan,           nan]]), 'left_elbow': array([[-403.6336622 , -449.55277984, 1728.98895665],\n",
      "       [-390.62543858, -439.23108718, 1706.95209739],\n",
      "       [-364.88088589, -421.42587865, 1664.25648487],\n",
      "       ...,\n",
      "       [          nan,           nan,           nan],\n",
      "       [          nan,           nan,           nan],\n",
      "       [          nan,           nan,           nan]]), 'right_elbow': array([[-690.44082181, -588.33209527, 2386.59104226],\n",
      "       [-699.090734  , -583.97817881, 2377.83282399],\n",
      "       [-684.72253103, -579.78291963, 2340.02346335],\n",
      "       ...,\n",
      "       [          nan,           nan,           nan],\n",
      "       [          nan,           nan,           nan],\n",
      "       [          nan,           nan,           nan]]), 'left_wrist': array([[-314.80876216, -230.15714322, 1819.0601707 ],\n",
      "       [-332.9573236 , -189.35334514, 1781.15031153],\n",
      "       [-308.96208986, -189.01008245, 1739.73780467],\n",
      "       ...,\n",
      "       [          nan,           nan,           nan],\n",
      "       [          nan,           nan,           nan],\n",
      "       [          nan,           nan,           nan]]), 'right_wrist': array([[-505.12781266, -474.09921031, 2137.63502528],\n",
      "       [-494.12095028, -467.88770506, 2117.80926994],\n",
      "       [-485.73796121, -462.820546  , 2100.07385438],\n",
      "       ...,\n",
      "       [          nan,           nan,           nan],\n",
      "       [          nan,           nan,           nan],\n",
      "       [          nan,           nan,           nan]]), 'left_pinky': array([[-302.47062527, -160.10283104, 1890.36260586],\n",
      "       [-321.50082745, -118.78299215, 1849.69824128],\n",
      "       [-284.1776162 , -126.3669348 , 1834.044152  ],\n",
      "       ...,\n",
      "       [          nan,           nan,           nan],\n",
      "       [          nan,           nan,           nan],\n",
      "       [          nan,           nan,           nan]]), 'right_pinky': array([[-442.41312118, -421.29208568, 2092.26640446],\n",
      "       [-438.11268554, -416.39386023, 2071.57444589],\n",
      "       [-429.92637703, -411.34827607, 2052.58643642],\n",
      "       ...,\n",
      "       [          nan,           nan,           nan],\n",
      "       [          nan,           nan,           nan],\n",
      "       [          nan,           nan,           nan]]), 'left_index': array([[-302.83732294, -175.87523703, 1896.89647957],\n",
      "       [-310.29389139, -128.87236739, 1868.50316049],\n",
      "       [-282.16569334, -140.34983799, 1845.71689334],\n",
      "       ...,\n",
      "       [          nan,           nan,           nan],\n",
      "       [          nan,           nan,           nan],\n",
      "       [          nan,           nan,           nan]]), 'right_index': array([[-453.54326422, -472.23557916, 2035.17619729],\n",
      "       [-443.7673746 , -466.19528575, 2014.95138689],\n",
      "       [-434.06850291, -459.67711235, 1994.93646416],\n",
      "       ...,\n",
      "       [          nan,           nan,           nan],\n",
      "       [          nan,           nan,           nan],\n",
      "       [          nan,           nan,           nan]]), 'left_thumb': array([[-311.31278624, -202.67928992, 1884.07924843],\n",
      "       [-319.86120232, -153.35155382, 1855.19704988],\n",
      "       [-296.29677058, -164.81458619, 1825.02816685],\n",
      "       ...,\n",
      "       [          nan,           nan,           nan],\n",
      "       [          nan,           nan,           nan],\n",
      "       [          nan,           nan,           nan]]), 'right_thumb': array([[-463.7983932 , -490.85175743, 2043.64925141],\n",
      "       [-456.17033051, -484.39662736, 2021.96289397],\n",
      "       [-447.03159112, -477.25477025, 1998.16156727],\n",
      "       ...,\n",
      "       [          nan,           nan,           nan],\n",
      "       [          nan,           nan,           nan],\n",
      "       [          nan,           nan,           nan]]), 'left_hip': array([[-476.20892091, -259.24512077, 2081.99981122],\n",
      "       [-465.33572831, -230.52219722, 2066.95543308],\n",
      "       [-451.92399041, -212.77290676, 2042.99213344],\n",
      "       ...,\n",
      "       [          nan,           nan,           nan],\n",
      "       [          nan,           nan,           nan],\n",
      "       [          nan,           nan,           nan]]), 'right_hip': array([[-627.97730595, -298.52057321, 2275.67667104],\n",
      "       [-621.86369431, -267.76326039, 2284.44357179],\n",
      "       [-614.8710207 , -256.23486078, 2265.32156451],\n",
      "       ...,\n",
      "       [          nan,           nan,           nan],\n",
      "       [          nan,           nan,           nan],\n",
      "       [          nan,           nan,           nan]]), 'left_knee': array([[-375.97597767,  151.56337712, 2258.41169553],\n",
      "       [-386.26816353,  172.07595853, 2224.0282353 ],\n",
      "       [-373.54343184,  184.86467506, 2213.11688719],\n",
      "       ...,\n",
      "       [          nan,           nan,           nan],\n",
      "       [          nan,           nan,           nan],\n",
      "       [          nan,           nan,           nan]]), 'right_knee': array([[-558.84887476,  231.07612222, 2612.02873636],\n",
      "       [-563.51733733,  249.01013087, 2621.48720771],\n",
      "       [-574.52441071,  260.78628503, 2623.04458936],\n",
      "       ...,\n",
      "       [          nan,           nan,           nan],\n",
      "       [          nan,           nan,           nan],\n",
      "       [          nan,           nan,           nan]]), 'left_ankle': array([[-360.44925788,  429.60826216, 2560.54607036],\n",
      "       [-408.83998637,  424.44881595, 2356.81605456],\n",
      "       [-383.35040752,  438.48513497, 2249.58692116],\n",
      "       ...,\n",
      "       [          nan,           nan,           nan],\n",
      "       [          nan,           nan,           nan],\n",
      "       [          nan,           nan,           nan]]), 'right_ankle': array([[-631.30823758,  731.72955653, 2966.99021765],\n",
      "       [-642.63155352,  724.58345721, 2960.74794602],\n",
      "       [-652.81181269,  727.09283629, 2959.25653797],\n",
      "       ...,\n",
      "       [          nan,           nan,           nan],\n",
      "       [          nan,           nan,           nan],\n",
      "       [          nan,           nan,           nan]]), 'left_heel': array([[-382.37437325,  491.19936352, 2670.4658261 ],\n",
      "       [-447.57016682,  463.4687682 , 2430.23763542],\n",
      "       [-401.20027763,  476.8665362 , 2290.70911599],\n",
      "       ...,\n",
      "       [          nan,           nan,           nan],\n",
      "       [          nan,           nan,           nan],\n",
      "       [          nan,           nan,           nan]]), 'right_heel': array([[-662.13545405,  808.54340892, 3023.9665765 ],\n",
      "       [-675.58653754,  800.45647135, 3008.36979046],\n",
      "       [-689.30501859,  798.69652984, 3000.45150265],\n",
      "       ...,\n",
      "       [          nan,           nan,           nan],\n",
      "       [          nan,           nan,           nan],\n",
      "       [          nan,           nan,           nan]]), 'left_foot_index': array([[-238.96954444,  647.08372332, 2634.92934102],\n",
      "       [-377.05114959,  617.72939524, 2381.04780731],\n",
      "       [-324.62083717,  668.13788019, 2393.76691104],\n",
      "       ...,\n",
      "       [          nan,           nan,           nan],\n",
      "       [          nan,           nan,           nan],\n",
      "       [          nan,           nan,           nan]]), 'right_foot_index': array([[-480.37110738,  939.57792619, 3060.41791789],\n",
      "       [-491.59352178,  940.78719986, 3047.15996102],\n",
      "       [-494.15828959,  948.77939544, 3073.31205088],\n",
      "       ...,\n",
      "       [          nan,           nan,           nan],\n",
      "       [          nan,           nan,           nan],\n",
      "       [          nan,           nan,           nan]]), 'head_center': array([[ -588.5984585 , -1133.59667131,  1751.39819717],\n",
      "       [ -577.42907707, -1120.74675696,  1732.25633846],\n",
      "       [ -556.40937674, -1091.67060171,  1692.97305903],\n",
      "       ...,\n",
      "       [           nan,            nan,            nan],\n",
      "       [           nan,            nan,            nan],\n",
      "       [           nan,            nan,            nan]]), 'neck_center': array([[-570.97071277, -847.32593025, 1861.97617231],\n",
      "       [-559.60017119, -832.88736892, 1830.73379816],\n",
      "       [-532.62145645, -814.70499902, 1796.0181572 ],\n",
      "       ...,\n",
      "       [          nan,           nan,           nan],\n",
      "       [          nan,           nan,           nan],\n",
      "       [          nan,           nan,           nan]]), 'trunk_center': array([[-561.5319131 , -563.10438862, 2020.40720672],\n",
      "       [-551.59994125, -541.01504886, 2003.2166503 ],\n",
      "       [-533.009481  , -524.6044414 , 1975.08750309],\n",
      "       ...,\n",
      "       [          nan,           nan,           nan],\n",
      "       [          nan,           nan,           nan],\n",
      "       [          nan,           nan,           nan]]), 'hips_center': array([[-552.09311343, -278.88284699, 2178.83824113],\n",
      "       [-543.59971131, -249.14272881, 2175.69950244],\n",
      "       [-533.39750556, -234.50388377, 2154.15684897],\n",
      "       ...,\n",
      "       [          nan,           nan,           nan],\n",
      "       [          nan,           nan,           nan],\n",
      "       [          nan,           nan,           nan]])}\n"
     ]
    }
   ],
   "source": [
    "print(human.body.trajectories['3d_xyz'].data)"
   ]
  },
  {
   "cell_type": "code",
   "execution_count": 40,
   "metadata": {},
   "outputs": [
    {
     "name": "stdout",
     "output_type": "stream",
     "text": [
      "Data as numpy: [[[ -584.25246118 -1188.90613348  1866.26252851]\n",
      "  [ -575.12680531 -1202.53116076  1805.62711625]\n",
      "  [ -561.68916378 -1186.02167732  1790.86783741]\n",
      "  ...\n",
      "  [ -570.97071277  -847.32593025  1861.97617231]\n",
      "  [ -561.5319131   -563.10438862  2020.40720672]\n",
      "  [ -552.09311343  -278.88284699  2178.83824113]]\n",
      "\n",
      " [[ -589.46152046 -1163.65964843  1826.09886942]\n",
      "  [ -580.00204398 -1181.32111421  1772.66176873]\n",
      "  [ -567.20045757 -1165.53239215  1756.59792666]\n",
      "  ...\n",
      "  [ -559.60017119  -832.88736892  1830.73379816]\n",
      "  [ -551.59994125  -541.01504886  2003.2166503 ]\n",
      "  [ -543.59971131  -249.14272881  2175.69950244]]\n",
      "\n",
      " [[ -589.1825987  -1149.85056323  1795.93403936]\n",
      "  [ -577.22644514 -1165.22818768  1745.08861151]\n",
      "  [ -562.46878092 -1151.84546508  1730.89247207]\n",
      "  ...\n",
      "  [ -532.62145645  -814.70499902  1796.0181572 ]\n",
      "  [ -533.009481    -524.6044414   1975.08750309]\n",
      "  [ -533.39750556  -234.50388377  2154.15684897]]\n",
      "\n",
      " ...\n",
      "\n",
      " [[           nan            nan            nan]\n",
      "  [           nan            nan            nan]\n",
      "  [           nan            nan            nan]\n",
      "  ...\n",
      "  [           nan            nan            nan]\n",
      "  [           nan            nan            nan]\n",
      "  [           nan            nan            nan]]\n",
      "\n",
      " [[           nan            nan            nan]\n",
      "  [           nan            nan            nan]\n",
      "  [           nan            nan            nan]\n",
      "  ...\n",
      "  [           nan            nan            nan]\n",
      "  [           nan            nan            nan]\n",
      "  [           nan            nan            nan]]\n",
      "\n",
      " [[           nan            nan            nan]\n",
      "  [           nan            nan            nan]\n",
      "  [           nan            nan            nan]\n",
      "  ...\n",
      "  [           nan            nan            nan]\n",
      "  [           nan            nan            nan]\n",
      "  [           nan            nan            nan]]]\n"
     ]
    }
   ],
   "source": [
    "print(f\"Data as numpy: {human.body.trajectories['3d_xyz'].as_numpy}\")"
   ]
  },
  {
   "cell_type": "code",
   "execution_count": 41,
   "metadata": {},
   "outputs": [
    {
     "name": "stdout",
     "output_type": "stream",
     "text": [
      "Data as dataframe:        frame          keypoint           x            y            z\n",
      "0          0              nose -584.252461 -1188.906133  1866.262529\n",
      "1          0    left_eye_inner -575.126805 -1202.531161  1805.627116\n",
      "2          0          left_eye -561.689164 -1186.021677  1790.867837\n",
      "3          0    left_eye_outer -549.635370 -1168.348818  1774.846871\n",
      "4          0   right_eye_inner -609.286370 -1224.678701  1824.191044\n",
      "...      ...               ...         ...          ...          ...\n",
      "40991   1107  right_foot_index         NaN          NaN          NaN\n",
      "40992   1107       head_center         NaN          NaN          NaN\n",
      "40993   1107       neck_center         NaN          NaN          NaN\n",
      "40994   1107      trunk_center         NaN          NaN          NaN\n",
      "40995   1107       hips_center         NaN          NaN          NaN\n",
      "\n",
      "[40996 rows x 5 columns]\n"
     ]
    }
   ],
   "source": [
    "print(f\"Data as dataframe: {human.body.trajectories['3d_xyz'].as_dataframe}\")"
   ]
  },
  {
   "cell_type": "markdown",
   "metadata": {},
   "source": [
    "There's also some basic methods that I wrote into the Actor class that you can use to get marker or frame data. Those are demonstrated below.\n",
    "\n",
    "While I think the way it's written is necessary for the Actor class, where we don't have a strong sense of what might be added to it, I don't think this method is ideal for the Human class. Too many strings involved. So it would probably be worth giving the human class additional methods to do the below functions."
   ]
  },
  {
   "cell_type": "code",
   "execution_count": 42,
   "metadata": {},
   "outputs": [
    {
     "name": "stdout",
     "output_type": "stream",
     "text": [
      "[[-382.37437325  491.19936352 2670.4658261 ]\n",
      " [-447.57016682  463.4687682  2430.23763542]\n",
      " [-401.20027763  476.8665362  2290.70911599]\n",
      " ...\n",
      " [          nan           nan           nan]\n",
      " [          nan           nan           nan]\n",
      " [          nan           nan           nan]]\n",
      "{'nose': array([-363.19744989, -904.32466624, 1412.39634963]), 'left_eye_inner': array([-360.7122946 , -920.12305488, 1369.49008208]), 'left_eye': array([-355.51463719, -908.59999488, 1355.03227349]), 'left_eye_outer': array([-349.70588642, -897.783565  , 1342.01736955]), 'right_eye_inner': array([-374.41393893, -953.07317705, 1409.82463033]), 'right_eye': array([-380.12619353, -961.87013385, 1420.35149925]), 'right_eye_outer': array([-387.37954099, -968.51605963, 1427.74761235]), 'left_ear': array([-340.73869748, -861.19796066, 1322.49458474]), 'right_ear': array([-398.04038958, -946.8901882 , 1426.98827259]), 'mouth_left': array([-351.66479001, -846.21260581, 1405.11441594]), 'mouth_right': array([-369.15238098, -881.16110682, 1449.58613477]), 'left_shoulder': array([-246.66706759, -579.04106463, 1319.35489318]), 'right_shoulder': array([-501.2438705 , -793.05817332, 1604.55977801]), 'left_elbow': array([-256.00370873, -327.21721052, 1492.92325938]), 'right_elbow': array([-443.37918326, -632.55042778, 1852.19024671]), 'left_wrist': array([-291.69274283, -204.95552819, 1754.22981823]), 'right_wrist': array([-335.61163675, -636.52471826, 1959.32951338]), 'left_pinky': array([-284.11608509, -158.82358774, 1840.20920988]), 'right_pinky': array([-289.17319873, -624.75168578, 2003.14155421]), 'left_index': array([-277.15077093, -184.10462887, 1882.2231405 ]), 'right_index': array([-302.49195603, -677.44583103, 1999.57316165]), 'left_thumb': array([-284.15333232, -204.15110594, 1854.65063259]), 'right_thumb': array([-318.35565386, -653.10675165, 1967.24868203]), 'left_hip': array([-277.71197403, -143.36460885, 1778.30517012]), 'right_hip': array([-456.98464971, -239.40339274, 1932.28027578]), 'left_knee': array([-298.29654972,  236.8798575 , 2054.44894781]), 'right_knee': array([-472.69307368,  151.39035722, 2207.2136272 ]), 'left_ankle': array([-311.03351305,  563.14960134, 2260.35402269]), 'right_ankle': array([-456.05329959,  480.57496323, 2386.24647395]), 'left_heel': array([-328.79336551,  595.67947538, 2246.97557299]), 'right_heel': array([-459.91842084,  515.91534416, 2350.35925361]), 'left_foot_index': array([-298.94768757,  819.86594922, 2549.38464938]), 'right_foot_index': array([-461.65420967,  711.9422572 , 2659.72165463]), 'head_center': array([-369.38954353, -904.04407443, 1374.74142867]), 'neck_center': array([-373.95546905, -686.04961898, 1461.9573356 ]), 'trunk_center': array([-370.65189046, -438.71680988, 1658.62502927]), 'hips_center': array([-367.34831187, -191.38400079, 1855.29272295])}\n"
     ]
    }
   ],
   "source": [
    "print(human.get_marker_data(aspect_name= 'body', type = '3d_xyz', marker_name= 'left_heel'))\n",
    "print(human.get_frame(aspect_name='body', type = '3d_xyz', frame_number=100))"
   ]
  },
  {
   "cell_type": "markdown",
   "metadata": {},
   "source": [
    "The following functions are what exist in our anatomical pipeline at the moment: calculating center of mass and enforcing rigid bones. For both, after the data is calculated, they get added as Trajectories to the relevant Aspect"
   ]
  },
  {
   "cell_type": "code",
   "execution_count": 43,
   "metadata": {},
   "outputs": [
    {
     "name": "stdout",
     "output_type": "stream",
     "text": [
      "Calculating center of mass for aspect: body\n",
      "Skipping center of mass calculation for aspect: face\n",
      "Skipping center of mass calculation for aspect: left_hand\n",
      "Skipping center of mass calculation for aspect: right_hand\n"
     ]
    }
   ],
   "source": [
    "for aspect in human.aspects.values():\n",
    "    if aspect.anatomical_structure.center_of_mass_definitions:\n",
    "        print('Calculating center of mass for aspect:', aspect.name)\n",
    "        total_body_com, segment_com = calculate_center_of_mass_from_trajectory(aspect.trajectories['3d_xyz'], aspect.anatomical_structure.center_of_mass_definitions)\n",
    "\n",
    "        aspect.add_total_body_center_of_mass(total_body_center_of_mass=total_body_com)\n",
    "        aspect.add_segment_center_of_mass(segment_center_of_mass=segment_com)\n",
    "    \n",
    "    else:\n",
    "        print('Skipping center of mass calculation for aspect:', aspect.name)"
   ]
  },
  {
   "cell_type": "code",
   "execution_count": 44,
   "metadata": {},
   "outputs": [
    {
     "name": "stdout",
     "output_type": "stream",
     "text": [
      "Enforcing rigid bones for aspect: body\n",
      "Skipping rigid bones enforcement for aspect: face\n",
      "Skipping rigid bones enforcement for aspect: left_hand\n",
      "Skipping rigid bones enforcement for aspect: right_hand\n"
     ]
    }
   ],
   "source": [
    "for aspect in human.aspects.values():\n",
    "    if aspect.anatomical_structure.joint_hierarchy:\n",
    "        print('Enforcing rigid bones for aspect:', aspect.name)\n",
    "        rigid_bones = enforce_rigid_bones_from_trajectory(aspect.trajectories['3d_xyz'], aspect.anatomical_structure.joint_hierarchy)\n",
    "\n",
    "        aspect.add_trajectory(name = 'rigid_3d_xyz',\n",
    "                                data = rigid_bones,\n",
    "                                marker_names = aspect.anatomical_structure.marker_names)\n",
    "    else:\n",
    "        print('Skipping rigid bones enforcement for aspect:', aspect.name)"
   ]
  },
  {
   "cell_type": "markdown",
   "metadata": {},
   "source": [
    "Below you can see extra trajectories added to the body after running the above functions"
   ]
  },
  {
   "cell_type": "code",
   "execution_count": 45,
   "metadata": {},
   "outputs": [
    {
     "name": "stdout",
     "output_type": "stream",
     "text": [
      "{'body': {'3d_xyz': <skellymodels.experimental.model_redo.models.trajectory.Trajectory object at 0x000001C5054FAB50>,\n",
      "          'rigid_3d_xyz': <skellymodels.experimental.model_redo.models.trajectory.Trajectory object at 0x000001C506913A10>,\n",
      "          'segment_com': <skellymodels.experimental.model_redo.models.trajectory.Trajectory object at 0x000001C506913F90>,\n",
      "          'total_body_com': <skellymodels.experimental.model_redo.models.trajectory.Trajectory object at 0x000001C506913E50>}}\n",
      "{'face': {'3d_xyz': <skellymodels.experimental.model_redo.models.trajectory.Trajectory object at 0x000001C50546D110>}}\n",
      "{'left_hand': {'3d_xyz': <skellymodels.experimental.model_redo.models.trajectory.Trajectory object at 0x000001C50522BD50>}}\n",
      "{'right_hand': {'3d_xyz': <skellymodels.experimental.model_redo.models.trajectory.Trajectory object at 0x000001C5069B5010>}}\n"
     ]
    }
   ],
   "source": [
    "for aspect in human.aspects.values():\n",
    "    pprint({aspect.name: aspect.trajectories})"
   ]
  },
  {
   "cell_type": "markdown",
   "metadata": {},
   "source": [
    "These are our saving functions. They leverage the `as_numpy` and `as_dataframe` properties that each Trajectory has. We basically iterate over each Trajectory in an Aspect, and save it out, using the metadata stored within each aspect/trajectory to dynamically build the file names. The last function builds the 'big' CSV we have with all the data."
   ]
  },
  {
   "cell_type": "code",
   "execution_count": 46,
   "metadata": {},
   "outputs": [],
   "source": [
    "from skellymodels.experimental.model_redo.managers.actor import Actor\n",
    "import pandas as pd\n",
    "\n",
    "def save_out_numpy_data(actor:Actor):\n",
    "    for aspect in actor.aspects.values():\n",
    "        for trajectory in aspect.trajectories.values():\n",
    "            print('Saving out numpy:', aspect.metadata['tracker_type'], aspect.name, trajectory.name)\n",
    "            np.save(f\"{aspect.metadata['tracker_type']}_{aspect.name}_{trajectory.name}.npy\", trajectory.data)\n",
    "\n",
    "def save_out_csv_data(actor:Actor):\n",
    "    for aspect in actor.aspects.values():\n",
    "        for trajectory in aspect.trajectories.values():\n",
    "            print('Saving out CSV:', aspect.metadata['tracker_type'], aspect.name, trajectory.name)\n",
    "            trajectory.as_dataframe.to_csv(f\"{aspect.metadata['tracker_type']}_{aspect.name}_{trajectory.name}.csv\")\n",
    "\n",
    "def save_out_all_data_csv(actor: Actor):\n",
    "    all_data = []\n",
    "\n",
    "    # Loop through aspects and trajectories\n",
    "    for aspect_name, aspect in actor.aspects.items():\n",
    "        for trajectory_name, trajectory in aspect.trajectories.items():\n",
    "            if trajectory_name == '3d_xyz':\n",
    "                # Get tidy DataFrame for the trajectory\n",
    "                trajectory_df = trajectory.as_dataframe\n",
    "                \n",
    "                # Add metadata column for model\n",
    "                trajectory_df['model'] = f\"{aspect.metadata['tracker_type']}_{aspect_name}\"\n",
    "                \n",
    "                # Append DataFrame to the list\n",
    "                all_data.append(trajectory_df)\n",
    "\n",
    "    # Combine all DataFrames into one\n",
    "    big_df = pd.concat(all_data, ignore_index=True)\n",
    "\n",
    "    # Sort by frame and then by model\n",
    "    big_df = big_df.sort_values(by=['frame', 'model']).reset_index(drop=True)\n",
    "\n",
    "    # Save the result to CSV\n",
    "    big_df.to_csv('freemocap_data_by_frame.csv', index=False)\n",
    "    print(\"Data successfully saved to 'freemocap_data_by_frame.csv'\")\n"
   ]
  },
  {
   "cell_type": "markdown",
   "metadata": {},
   "source": [
    "And these three functions are all we need to save out similar/almost equivalent data to what we currently save out for freemocap in the output data folder"
   ]
  },
  {
   "cell_type": "code",
   "execution_count": 47,
   "metadata": {},
   "outputs": [
    {
     "name": "stdout",
     "output_type": "stream",
     "text": [
      "Saving out numpy: mediapipe body 3d_xyz\n",
      "Saving out numpy: mediapipe body total_body_com\n",
      "Saving out numpy: mediapipe body segment_com\n",
      "Saving out numpy: mediapipe body rigid_3d_xyz\n",
      "Saving out numpy: mediapipe face 3d_xyz\n",
      "Saving out numpy: mediapipe left_hand 3d_xyz\n",
      "Saving out numpy: mediapipe right_hand 3d_xyz\n",
      "Saving out CSV: mediapipe body 3d_xyz\n",
      "Saving out CSV: mediapipe body total_body_com\n",
      "Saving out CSV: mediapipe body segment_com\n",
      "Saving out CSV: mediapipe body rigid_3d_xyz\n",
      "Saving out CSV: mediapipe face 3d_xyz\n",
      "Saving out CSV: mediapipe left_hand 3d_xyz\n",
      "Saving out CSV: mediapipe right_hand 3d_xyz\n",
      "Data successfully saved to 'freemocap_data_by_frame.csv'\n"
     ]
    }
   ],
   "source": [
    "save_out_numpy_data(actor = human)\n",
    "save_out_csv_data(actor = human)\n",
    "save_out_all_data_csv(actor = human)\n"
   ]
  }
 ],
 "metadata": {
  "kernelspec": {
   "display_name": "skellyalign",
   "language": "python",
   "name": "python3"
  },
  "language_info": {
   "codemirror_mode": {
    "name": "ipython",
    "version": 3
   },
   "file_extension": ".py",
   "mimetype": "text/x-python",
   "name": "python",
   "nbconvert_exporter": "python",
   "pygments_lexer": "ipython3",
   "version": "3.11.9"
  }
 },
 "nbformat": 4,
 "nbformat_minor": 2
}
